{
  "metadata": {
    "kernelspec": {
      "name": "python",
      "display_name": "Python (Pyodide)",
      "language": "python"
    },
    "language_info": {
      "codemirror_mode": {
        "name": "python",
        "version": 3
      },
      "file_extension": ".py",
      "mimetype": "text/x-python",
      "name": "python",
      "nbconvert_exporter": "python",
      "pygments_lexer": "ipython3",
      "version": "3.8"
    }
  },
  "nbformat_minor": 5,
  "nbformat": 4,
  "cells": [
    {
      "id": "b3e8fcd5-8ef5-4f3c-a97d-f044b270963e",
      "cell_type": "code",
      "source": "import numpy as np",
      "metadata": {
        "trusted": true
      },
      "outputs": [],
      "execution_count": 1
    },
    {
      "id": "68cf417e-e504-48d1-b518-9ac2fe24d01e",
      "cell_type": "code",
      "source": "for i in np.arange(30):\n    print(f'{i}: {i ** 2}')",
      "metadata": {
        "trusted": true
      },
      "outputs": [
        {
          "name": "stdout",
          "text": "0: 0\n1: 1\n2: 4\n3: 9\n4: 16\n5: 25\n6: 36\n7: 49\n8: 64\n9: 81\n10: 100\n11: 121\n12: 144\n13: 169\n14: 196\n15: 225\n16: 256\n17: 289\n18: 324\n19: 361\n20: 400\n21: 441\n22: 484\n23: 529\n24: 576\n25: 625\n26: 676\n27: 729\n28: 784\n29: 841\n",
          "output_type": "stream"
        }
      ],
      "execution_count": 3
    },
    {
      "id": "8f7186e7-c473-4aae-a97e-d656b0f0a8f0",
      "cell_type": "code",
      "source": "",
      "metadata": {
        "trusted": true
      },
      "outputs": [],
      "execution_count": null
    }
  ]
}